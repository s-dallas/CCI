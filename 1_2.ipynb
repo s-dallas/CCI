{
  "nbformat": 4,
  "nbformat_minor": 0,
  "metadata": {
    "colab": {
      "provenance": [],
      "authorship_tag": "ABX9TyM9aWpKYLxq9lJ5ynnNHVgC"
    },
    "kernelspec": {
      "name": "python3",
      "display_name": "Python 3"
    },
    "language_info": {
      "name": "python"
    }
  },
  "cells": [
    {
      "cell_type": "code",
      "execution_count": 8,
      "metadata": {
        "colab": {
          "base_uri": "https://localhost:8080/"
        },
        "id": "-lQQDMwAY5m2",
        "outputId": "1cd92ccd-296a-4696-8121-8974dd2ed7c1"
      },
      "outputs": [
        {
          "output_type": "stream",
          "name": "stdout",
          "text": [
            "Enter a string: hey there\n",
            "Enter another string: good day\n",
            "hey there  is not a permuation of  good day\n"
          ]
        }
      ],
      "source": [
        "# CCI - Problem 1.2\n",
        "# Determine if one string is a permutation of another\n",
        "\n",
        "abc = [' ','a','b','c','d','e','f','g','h','i','j','k','l','m','n',\n",
        "       'o','p','q','r','s','t',',u','v','w','x','y','z']\n",
        "nums = [0,1,2,3,4,5,6,7,8,9,10,11,12,13,14,15,16,17,18,19,20,\n",
        "        21,22,23,24,25,26]\n",
        "\n",
        "s1 = input(\"Enter a string: \")\n",
        "s2 = input(\"Enter another string: \")\n",
        "s1Score = 0\n",
        "s2Score = 0\n",
        "\n",
        "for c in s1:\n",
        "  for i in range(0,26):\n",
        "    if (c == abc[i]):\n",
        "      s1Score += i\n",
        "\n",
        "for c2 in s2:\n",
        "  for i2 in range(0,26):\n",
        "    if (c2 == abc[i2]):\n",
        "      s2Score += i2\n",
        "\n",
        "if (s1Score == s2Score):\n",
        "  print(s1, \" is a permutation of \",s2)\n",
        "else:\n",
        "  print(s1, \" is not a permuation of \",s2)"
      ]
    },
    {
      "cell_type": "code",
      "source": [
        "# CCI - Problem 1.2\n",
        "# Determine if one string is a permutation of another\n",
        "\n",
        "abc = [' ','a','b','c','d','e','f','g','h','i','j','k','l','m','n',\n",
        "       'o','p','q','r','s','t',',u','v','w','x','y','z']\n",
        "nums = [0,1,2,3,4,5,6,7,8,9,10,11,12,13,14,15,16,17,18,19,20,\n",
        "        21,22,23,24,25,26]\n",
        "\n",
        "s1 = input(\"Enter a string: \")\n",
        "s2 = input(\"Enter another string: \")\n",
        "s1Score = 0\n",
        "s2Score = 0\n",
        "\n",
        "for c in s1:\n",
        "  for i in range(0,26):\n",
        "    if (c == abc[i]):\n",
        "      s1Score += i\n",
        "\n",
        "for c2 in s2:\n",
        "  for i2 in range(0,26):\n",
        "    if (c2 == abc[i2]):\n",
        "      s2Score += i2\n",
        "\n",
        "if (s1Score == s2Score):\n",
        "  print(s1, \" is a permutation of \",s2)\n",
        "else:\n",
        "  print(s1, \" is not a permuation of \",s2)"
      ],
      "metadata": {
        "colab": {
          "base_uri": "https://localhost:8080/"
        },
        "id": "M7CSJ4-Nbo3U",
        "outputId": "91f0d598-74f0-43fe-ce44-3aa2d202220a"
      },
      "execution_count": 9,
      "outputs": [
        {
          "output_type": "stream",
          "name": "stdout",
          "text": [
            "Enter a string: doog\n",
            "Enter another string: good\n",
            "doog  is a permutation of  good\n"
          ]
        }
      ]
    }
  ]
}