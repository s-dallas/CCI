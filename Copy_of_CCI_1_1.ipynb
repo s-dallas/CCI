{
  "nbformat": 4,
  "nbformat_minor": 0,
  "metadata": {
    "colab": {
      "provenance": []
    },
    "kernelspec": {
      "name": "python3",
      "display_name": "Python 3"
    },
    "language_info": {
      "name": "python"
    }
  },
  "cells": [
    {
      "cell_type": "code",
      "execution_count": null,
      "metadata": {
        "colab": {
          "base_uri": "https://localhost:8080/"
        },
        "id": "kiwBhxCn2cY8",
        "outputId": "aab2986a-0a09-485e-e878-330c74b6cbad"
      },
      "outputs": [
        {
          "output_type": "stream",
          "name": "stdout",
          "text": [
            "Enter a sentence: \n",
            "This one!\n",
            "That is a unique sentence.\n"
          ]
        }
      ],
      "source": [
        "\n",
        "# Dallas Scott\n",
        "# CCI - Problem 1.1 - IsUnique\n",
        "# Determine whether all characters in a given input are unique.\n",
        "\n",
        "print('Enter a sentence: ')\n",
        "s = input()\n",
        "unique = True\n",
        "cur = 0\n",
        "for i in s:\n",
        "    j = len(s)-1\n",
        "    while (cur < j):\n",
        "        if (i == s[j]):\n",
        "            unique = False\n",
        "        j -= 1\n",
        "    cur += 1\n",
        "if (unique == True):\n",
        "  print('That is a unique sentence.')\n",
        "else:\n",
        "  print('That is not a unique sentence.')\n"
      ]
    },
    {
      "cell_type": "code",
      "source": [
        "\n",
        "# Dallas Scott\n",
        "# CCI - Problem 1.1 - IsUnique\n",
        "# Determine whether all characters in a given input are unique.\n",
        "\n",
        "print('Enter a sentence: ')\n",
        "s = input()\n",
        "unique = True\n",
        "cur = 0\n",
        "for i in s:\n",
        "    j = len(s)-1\n",
        "    while (cur < j):\n",
        "        if (i == s[j]):\n",
        "            unique = False\n",
        "        j -= 1\n",
        "    cur += 1\n",
        "if (unique == True):\n",
        "  print('That is a unique sentence.')\n",
        "else:\n",
        "  print('That is not a unique sentence.')\n"
      ],
      "metadata": {
        "colab": {
          "base_uri": "https://localhost:8080/"
        },
        "id": "4dq160eXBlQD",
        "outputId": "fedf7139-1300-402c-c165-fca27d0fd77c"
      },
      "execution_count": null,
      "outputs": [
        {
          "output_type": "stream",
          "name": "stdout",
          "text": [
            "Enter a sentence: \n",
            "Not this one!\n",
            "That is not a unique sentence.\n"
          ]
        }
      ]
    }
  ]
}