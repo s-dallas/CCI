{
 "cells": [
  {
   "cell_type": "code",
   "execution_count": 1,
   "id": "d9125f55-8d84-43c9-90a6-93f1b5147d0f",
   "metadata": {},
   "outputs": [
    {
     "name": "stdout",
     "output_type": "stream",
     "text": [
      "Enter a sentence: \n"
     ]
    },
    {
     "name": "stdin",
     "output_type": "stream",
     "text": [
      " Hey there\n"
     ]
    },
    {
     "name": "stdout",
     "output_type": "stream",
     "text": [
      "Is  H  the same as  e ?\n",
      "Is  H  the same as  r ?\n",
      "Is  H  the same as  e ?\n",
      "Is  H  the same as  h ?\n",
      "Is  H  the same as  t ?\n",
      "Is  H  the same as    ?\n",
      "Is  H  the same as  y ?\n",
      "Is  H  the same as  e ?\n",
      "Is  e  the same as  e ?\n",
      "That is not a unique sentence.\n",
      "Is  e  the same as  r ?\n",
      "Is  e  the same as  e ?\n",
      "That is not a unique sentence.\n",
      "Is  e  the same as  h ?\n",
      "Is  e  the same as  t ?\n",
      "Is  e  the same as    ?\n",
      "Is  e  the same as  y ?\n",
      "Is  y  the same as  e ?\n",
      "Is  y  the same as  r ?\n",
      "Is  y  the same as  e ?\n",
      "Is  y  the same as  h ?\n",
      "Is  y  the same as  t ?\n",
      "Is  y  the same as    ?\n",
      "Is     the same as  e ?\n",
      "Is     the same as  r ?\n",
      "Is     the same as  e ?\n",
      "Is     the same as  h ?\n",
      "Is     the same as  t ?\n",
      "Is  t  the same as  e ?\n",
      "Is  t  the same as  r ?\n",
      "Is  t  the same as  e ?\n",
      "Is  t  the same as  h ?\n",
      "Is  h  the same as  e ?\n",
      "Is  h  the same as  r ?\n",
      "Is  h  the same as  e ?\n",
      "Is  e  the same as  e ?\n",
      "That is not a unique sentence.\n",
      "Is  e  the same as  r ?\n",
      "Is  r  the same as  e ?\n",
      "That is a unique sentence.\n"
     ]
    }
   ],
   "source": [
    "# Dallas Scott\n",
    "# CCI - Problem 1.1 - IsUnique\n",
    "# Determine whether all characters in a given input are unique.\n",
    "\n",
    "print('Enter a sentence: ')\n",
    "s = input()\n",
    "cur = 0\n",
    "for i in s:\n",
    "    j = len(s)-1\n",
    "    while (cur < j):\n",
    "        print('Is ',i,' the same as ',s[j],'?')\n",
    "        if (i == s[j]):\n",
    "            print('That is not a unique sentence.')\n",
    "            quit\n",
    "        j -= 1\n",
    "    cur += 1\n",
    "print('That is a unique sentence.')"
   ]
  }
 ],
 "metadata": {
  "kernelspec": {
   "display_name": "Python 3 (ipykernel)",
   "language": "python",
   "name": "python3"
  },
  "language_info": {
   "codemirror_mode": {
    "name": "ipython",
    "version": 3
   },
   "file_extension": ".py",
   "mimetype": "text/x-python",
   "name": "python",
   "nbconvert_exporter": "python",
   "pygments_lexer": "ipython3",
   "version": "3.9.12"
  }
 },
 "nbformat": 4,
 "nbformat_minor": 5
}
